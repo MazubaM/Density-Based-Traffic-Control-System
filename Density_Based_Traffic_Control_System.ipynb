{
  "nbformat": 4,
  "nbformat_minor": 0,
  "metadata": {
    "colab": {
      "name": "Density Based Traffic Control System.ipynb",
      "provenance": [],
      "collapsed_sections": [],
      "include_colab_link": true
    },
    "kernelspec": {
      "display_name": "Python 3",
      "name": "python3"
    }
  },
  "cells": [
    {
      "cell_type": "markdown",
      "metadata": {
        "id": "view-in-github",
        "colab_type": "text"
      },
      "source": [
        "<a href=\"https://colab.research.google.com/github/MazubaM/Final-Year-Project/blob/main/Density_Based_Traffic_Control_System.ipynb\" target=\"_parent\"><img src=\"https://colab.research.google.com/assets/colab-badge.svg\" alt=\"Open In Colab\"/></a>"
      ]
    },
    {
      "cell_type": "markdown",
      "metadata": {
        "id": "A86ukipy6-n2"
      },
      "source": [
        "# Density Based Traffic Control System"
      ]
    },
    {
      "cell_type": "code",
      "metadata": {
        "id": "CifAi3Hiph2o"
      },
      "source": [
        "!pip install cvlib==0.2.2\n",
        "!pip install opencv-python==4.1.1.26\n",
        "!pip install tensorflow==1.14.0\n",
        "!pip install matplotlib==3.1.1\n",
        "!pip install Keras==2.2.5"
      ],
      "execution_count": null,
      "outputs": []
    },
    {
      "cell_type": "code",
      "metadata": {
        "id": "pX2Zsm42p1zi"
      },
      "source": [
        "from platform import python_version\n",
        "import tensorflow\n",
        "import keras\n",
        "import cvlib as cv\n",
        "import cv2\n",
        "\n",
        "print('Python version: {}'.format(python_version()))\n",
        "print('cvlib version: {}'.format(cv.__version__))\n",
        "print('OpenCV version: {}'.format(cv2.__version__))\n",
        "print('Tensorflow version: {}'.format(tensorflow.__version__))\n",
        "print('Keras version: {}'.format(keras.__version__))"
      ],
      "execution_count": null,
      "outputs": []
    },
    {
      "cell_type": "code",
      "metadata": {
        "colab": {
          "base_uri": "https://localhost:8080/"
        },
        "id": "KlBZXS3cL1oM",
        "outputId": "61f0f67e-56fe-41d4-d3d2-fab6138d06ab"
      },
      "source": [
        "from google.colab import drive\n",
        "drive.mount('/content/drive')"
      ],
      "execution_count": 3,
      "outputs": [
        {
          "output_type": "stream",
          "text": [
            "Mounted at /content/drive\n"
          ],
          "name": "stdout"
        }
      ]
    },
    {
      "cell_type": "code",
      "metadata": {
        "id": "GbsJ0ShWpJo1"
      },
      "source": [
        "import cv2\n",
        "import matplotlib.pyplot as plt\n",
        "import cvlib as cv\n",
        "from cvlib.object_detection import draw_bbox\n",
        "import threading\n",
        "from IPython import get_ipython\n",
        "from operator import itemgetter\n",
        "\n",
        "def lane_1():\n",
        "    #read image from local folder/directory\n",
        "    im = cv2.imread(\"/content/drive/My Drive/Colab_Data/traff.jpg\")\n",
        "\n",
        "    plt.imshow(im)\n",
        "    plt.show(None)\n",
        "\n",
        "    bbox, label, conf = cv.detect_common_objects(im)\n",
        "    output_image = draw_bbox(im, bbox, label, conf)\n",
        "    plt.imshow(output_image)\n",
        "    plt.show()\n",
        "    print('Number of cars in lane 1 is ' + str(label.count('car')))\n",
        "\n",
        "    global num1\n",
        "\n",
        "    num1 = int(str(label.count('car')))\n",
        "  \n",
        "def lane_2():\n",
        "    #read image from local folder/directory\n",
        "    im = cv2.imread(\"/content/drive/My Drive/Colab_Data/traff5.jpg\")\n",
        "\n",
        "\n",
        "    plt.imshow(im)\n",
        "    plt.show(None)\n",
        "\n",
        "    bbox, label, conf = cv.detect_common_objects(im)\n",
        "    output_image = draw_bbox(im, bbox, label, conf)\n",
        "    plt.imshow(output_image)\n",
        "    plt.show()\n",
        "    print('Number of cars in lane 2 is ' + str(label.count('car')))\n",
        "\n",
        "    global num2\n",
        "\n",
        "    num2 = int(str(label.count('car')))\n",
        "\n",
        "def lane_3():\n",
        "    #read image from local folder/directory\n",
        "    im = cv2.imread(\"/content/drive/My Drive/Colab_Data/traff6.jpg\")\n",
        "\n",
        "    plt.imshow(im)\n",
        "    plt.show(None)\n",
        "\n",
        "    bbox, label, conf = cv.detect_common_objects(im)\n",
        "    output_image = draw_bbox(im, bbox, label, conf)\n",
        "    plt.imshow(output_image)\n",
        "    plt.show()\n",
        "    print('Number of cars in lane 3 is ' + str(label.count('car')))\n",
        "\n",
        "    global num3\n",
        "\n",
        "    num3 = int(str(label.count('car')))\n",
        "\n",
        "def lane_4():\n",
        "    #read image from local folder/directory\n",
        "    im = cv2.imread(\"/content/drive/My Drive/Colab_Data/traff7.jpg\")\n",
        "\n",
        "    plt.imshow(im)\n",
        "    plt.show(None)\n",
        "\n",
        "    bbox, label, conf = cv.detect_common_objects(im)\n",
        "    output_image = draw_bbox(im, bbox, label, conf)\n",
        "    plt.imshow(output_image)\n",
        "    plt.show()\n",
        "    print('Number of cars in lane 4 is ' + str(label.count('car')))\n",
        "\n",
        "    global num4\n",
        "    \n",
        "    num4 = int(str(label.count('car')))\n",
        "\n",
        "lane_1()\n",
        "lane_2()\n",
        "lane_3()\n",
        "lane_4()\n",
        "\n",
        "\n",
        "\n",
        "\n",
        "def time():\n",
        "      global total, total_time, lane1_time, lane2_time, lane3_time, lane4_time \n",
        "\n",
        "      total = num1 + num2 + num3 + num4\n",
        "      \n",
        "      lane1_time = (num1/total) * 60\n",
        "      lane2_time = (num2/total) * 60\n",
        "      lane3_time = (num3/total) * 60\n",
        "      lane4_time = (num4/total) * 60\n",
        "\n",
        "      total_time = lane1_time + lane2_time + lane3_time + lane4_time\n",
        "\n",
        "time()\n",
        "\n",
        "def queue():\n",
        "\n",
        "      list = [{'Lane': 1, 'No_of_Cars': num1, 'Time' : round(lane1_time)},\n",
        "              {'Lane': 2, 'No_of_Cars': num2, 'Time' : round(lane2_time)},\n",
        "              {'Lane': 3, 'No_of_Cars': num3, 'Time' : round(lane3_time)},\n",
        "              {'Lane': 4, 'No_of_Cars': num4, 'Time' : round(lane4_time)}]\n",
        "\n",
        "      sorted_list = sorted(list, key=itemgetter('No_of_Cars'))\n",
        "\n",
        "      for lane in sorted_list:\n",
        "        print(lane, \"\\n\")\n",
        "\n",
        "      \n",
        "      print(\"Total Number of Cars is: \", total)\n",
        "      print(\"Complete Cycle time is: \", total_time)\n",
        "\n",
        "queue()\n",
        "\n",
        "#delete variables from memory\n",
        "del total, total_time, lane1_time, lane2_time, lane3_time, lane4_time\n"
      ],
      "execution_count": null,
      "outputs": []
    }
  ]
}